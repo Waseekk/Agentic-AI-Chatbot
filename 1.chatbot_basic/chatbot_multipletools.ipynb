{
 "cells": [
  {
   "cell_type": "code",
   "execution_count": 1,
   "metadata": {},
   "outputs": [],
   "source": [
    "## tools\n",
    "\n",
    "from langchain_community.tools import ArxivQueryRun,WikipediaQueryRun\n",
    "from langchain_community.utilities import ArxivAPIWrapper,WikipediaAPIWrapper"
   ]
  },
  {
   "cell_type": "code",
   "execution_count": null,
   "metadata": {},
   "outputs": [],
   "source": []
  },
  {
   "cell_type": "code",
   "execution_count": null,
   "metadata": {},
   "outputs": [
    {
     "name": "stdout",
     "output_type": "stream",
     "text": [
      "arxiv\n"
     ]
    }
   ],
   "source": [
    "##Agent 1\n",
    "\n",
    "api_wrapper_arxiv=ArxivAPIWrapper(top_k_results=2,doc_content_chars_max=500) \n",
    "arxiv=ArxivQueryRun(api_wrapper=api_wrapper_arxiv,description=\"Query arxiv papers\")\n",
    "print(arxiv.name)"
   ]
  },
  {
   "cell_type": "code",
   "execution_count": 3,
   "metadata": {},
   "outputs": [
    {
     "data": {
      "text/plain": [
       "'Published: 2023-05-23\\nTitle: Fast and energy-efficient non-volatile III-V-on-silicon photonic phase shifter based on memristors\\nAuthors: Zhuoran Fang, Bassem Tossoun, Antoine Descos, Di Liang, Xue Huang, Geza Kurczveil, Arka Majumdar, Raymond G. Beausoleil\\nSummary: Silicon photonics has evolved from lab research to commercial products in the\\npast decade as it plays an increasingly crucial role in data communication for\\nnext-generation data centers and high performance computing1. Recently,\\nprogr'"
      ]
     },
     "execution_count": 3,
     "metadata": {},
     "output_type": "execute_result"
    }
   ],
   "source": [
    "arxiv.invoke(\"What is the latest research on quantum computing?\")"
   ]
  },
  {
   "cell_type": "code",
   "execution_count": 4,
   "metadata": {},
   "outputs": [
    {
     "data": {
      "text/plain": [
       "\"Published: 2024-07-22\\nTitle: Attention Is All You Need But You Don't Need All Of It For Inference of Large Language Models\\nAuthors: Georgy Tyukin, Gbetondji J-S Dovonon, Jean Kaddour, Pasquale Minervini\\nSummary: The inference demand for LLMs has skyrocketed in recent months, and serving\\nmodels with low latencies remains challenging due to the quadratic input length\\ncomplexity of the attention layers. In this work, we investigate the effect of\\ndropping MLP and attention layers at inference time o\""
      ]
     },
     "execution_count": 4,
     "metadata": {},
     "output_type": "execute_result"
    }
   ],
   "source": [
    "arxiv.invoke(\"attention is all you need\")"
   ]
  },
  {
   "cell_type": "code",
   "execution_count": null,
   "metadata": {},
   "outputs": [
    {
     "data": {
      "text/plain": [
       "'wikipedia'"
      ]
     },
     "execution_count": 5,
     "metadata": {},
     "output_type": "execute_result"
    }
   ],
   "source": [
    "## Agent 2\n",
    "\n",
    "api_wrapper_wiki=WikipediaAPIWrapper(top_k_results=1,doc_content_chars_max=500)\n",
    "wiki=WikipediaQueryRun(api_wrapper=api_wrapper_wiki)\n",
    "wiki.name"
   ]
  },
  {
   "cell_type": "code",
   "execution_count": 8,
   "metadata": {},
   "outputs": [],
   "source": [
    "from dotenv import load_dotenv\n",
    "load_dotenv()\n",
    "\n",
    "import os\n",
    "\n",
    "os.environ[\"TAVILY_API_KEY\"]=os.getenv(\"TAVILY_API_KEY\")\n",
    "os.environ[\"GROQ_API_KEY\"]=os.getenv(\"GROQ_API_KEY\")"
   ]
  },
  {
   "cell_type": "code",
   "execution_count": null,
   "metadata": {},
   "outputs": [],
   "source": [
    "### Tavily Search Tool agent 3\n",
    "from langchain_community.tools.tavily_search import TavilySearchResults\n",
    "\n",
    "tavily = TavilySearchResults()"
   ]
  },
  {
   "cell_type": "code",
   "execution_count": 10,
   "metadata": {},
   "outputs": [
    {
     "data": {
      "text/plain": [
       "[{'title': 'Data Analytics News - Power Engineering News - EEPower',\n",
       "  'url': 'https://eepower.com/news/category/utilities/data-analytics/',\n",
       "  'content': 'Siemens recently released two software programs to help utilities model the impact of distributed energy resources on their networks. News Mar 21, 2024 by',\n",
       "  'score': 0.7668008},\n",
       " {'title': 'Power Engineering: Power Industry And Energy News',\n",
       "  'url': 'https://www.power-eng.com/',\n",
       "  'content': 'Learn How to Work Smarter in the Field\\n\\nJune 4, 2025 @ 2:00 pm – 3:00 pm EDT\\n\\nAdvancing Power Electronics Cooling: Innovations in Pumped Two-Phase Systems\\n\\nMay 29, 2025 @ 11:00 am – 12:00 pm EDT\\n\\nDTECH Data Centers & AI 2025\\n\\nMay 27-29, 2025 | San Jose, CA\\n\\nMore News\\n\\nNew York offshore wind project resumes construction after Trump’s stop work order\\n\\nCould this utility’s next-gen storage test be a game changer?\\n\\nLess than 2 weeks to go: Submit case studies and apply to speak at POWERGEN 2026 [...] Purdue University reactor paves the way for nuclear digital breakthroughs\\n\\nThe ultimate utility-data center meetup: What we’re excited about at DTECH Data Centers and AI\\n\\nPowerGen News\\n\\nPOWERGEN welcomes the Electric Utility & Cogen Chemistry Workshop for 2026\\n\\nWe are LIVE: Submit case studies and apply to speak at POWERGEN 2026\\n\\nPOWERGEN highlights the importance of water and steam chemistry\\n\\nWant to help develop the POWERGEN International® conference program? Join our advisory committee [...] Latest News\\n\\nWashington state nuclear plant approved for $700M upgrade to boost output\\n\\nWe Energies natural gas plants approved by regulators\\n\\nMay 29\\n\\nAdvancing Power Electronics Cooling: Innovations in Pumped Two-Phase Systems\\n\\nConstellation extinguishes fire at Quad Cities Nuclear Plant\\n\\nTariffs News\\n\\nThe impacts of shifting tariff policy on solar generation and manufacturing\\n\\nTariff uncertainty forces global energy storage company to pause active US projects',\n",
       "  'score': 0.498902},\n",
       " {'title': 'Data Science Current',\n",
       "  'url': 'https://www.datasciencecurrent.com/',\n",
       "  'content': 'Today\\nYesterday\\nFri. May 23\\nThu. May 22\\nWed. May 21\\nTue. May 20\\nThis Week\\nLast Week\\nMay 10 - May 16\\nMay 03 - May 09\\nApr 26 - May 02\\nApr 19 - Apr 25\\nThis Month\\nLast Month\\nMarch, 2025\\nFebruary, 2025\\nJanuary, 2025\\nDecember, 2024\\nThis Year\\nLast Year\\n2023\\n2022\\n2021\\n2020\\nMOREdaily editions | MOREweekly editions | MOREmonthly editions | MOREyearly editions\\nToday\\nYesterday\\nFri. May 23\\nThu. May 22\\nWed. May 21\\nTue. May 20\\nThis Week\\nLast Week\\nMay 10 - May 16\\nMay 03 - May 09\\nApr 26 - May 02\\nApr 19 - Apr 25 [...] TodayYesterdayFri. May 23Thu. May 22Wed. May 21Tue. May 20 | Today | Yesterday | Fri. May 23 | Thu. May 22 | Wed. May 21 | Tue. May 20 | This WeekLast WeekMay 10 - May 16May 03 - May 09Apr 26 - May 02Apr 19 - Apr 25 | This Week | Last Week | May 10 - May 16 | May 03 - May 09 | Apr 26 - May 02 | Apr 19 - Apr 25 | This MonthLast MonthMarch, 2025February, 2025January, 2025December, 2024 | This Month | Last Month | March, 2025 | February, 2025 | January, 2025 | December, 2024 | This YearLast [...] This Month\\nLast Month\\nMarch, 2025\\nFebruary, 2025\\nJanuary, 2025\\nDecember, 2024\\nThis Year\\nLast Year\\n2023\\n2022\\n2021\\n2020',\n",
       "  'score': 0.45551404},\n",
       " {'title': 'What are the best sources of Data Science news, information, and ...',\n",
       "  'url': 'https://www.reddit.com/r/datascience/comments/xho5cw/what_are_the_best_sources_of_data_science_news/',\n",
       "  'content': 'For me Quanta Magazine is a good resource. Mostly fundamental math, physics and occasional data science articles. Also love their podcasts.',\n",
       "  'score': 0.3408586},\n",
       " {'title': 'Data Science in the News',\n",
       "  'url': 'https://data-science.llnl.gov/latest/news',\n",
       "  'content': 'Today, research in nearly every scientific discipline involves data science techniques. Whether using sophisticated tools to manage and analyze massive datasets',\n",
       "  'score': 0.23059082}]"
      ]
     },
     "execution_count": 10,
     "metadata": {},
     "output_type": "execute_result"
    }
   ],
   "source": [
    "tavily.invoke(\"Provide me the recent data science news in power engineering?\")"
   ]
  },
  {
   "cell_type": "code",
   "execution_count": 11,
   "metadata": {},
   "outputs": [],
   "source": [
    "## combine all these tools in the list\n",
    "tools=[arxiv, wiki, tavily]"
   ]
  },
  {
   "cell_type": "code",
   "execution_count": 19,
   "metadata": {},
   "outputs": [],
   "source": [
    "## Initialize the LLM Model\n",
    "from langchain_groq import ChatGroq\n",
    "\n",
    "#llm=ChatGroq(model=\"deepseek-r1-distill-llama-70b\", temperature=0.1, max_tokens=1000)\n",
    "llm=ChatGroq(model=\"compound-beta\", temperature=0.1, max_tokens=1000)\n"
   ]
  },
  {
   "cell_type": "code",
   "execution_count": 15,
   "metadata": {},
   "outputs": [
    {
     "data": {
      "text/plain": [
       "AIMessage(content='<think>\\nOkay, so I need to find recent papers on data science or machine learning in power engineering and energy science. Hmm, where do I start? I remember the user mentioned some databases like IEEE Xplore, ScienceDirect, SpringerLink, and arXiv. Maybe I should check those first. \\n\\nLet me think about what specific topics I\\'m interested in. The user listed some areas like renewable energy integration, energy forecasting, smart grids, fault detection, energy storage, demand response, power system optimization, and electric vehicles. I\\'m particularly interested in renewable energy integration and energy forecasting. \\n\\nI guess I should start with IEEE Xplore since it\\'s a major database for engineering topics. I\\'ll need to search using keywords like \"machine learning renewable energy\" or \"data science energy forecasting.\" But wait, how do I ensure the papers are recent? Maybe I can set a filter for the last two years, say 2023 and 2024.\\n\\nWait, I don\\'t have access to all these databases. Maybe some of them are behind paywalls. I should check if my institution has subscriptions or if there are open-access options. Alternatively, arXiv might have preprints that are freely available. \\n\\nI should also consider the specific journals mentioned, like IEEE Transactions on Power Systems or Renewable and Sustainable Energy Reviews. Maybe I can go directly to their websites and browse recent issues. \\n\\nAnother thought: maybe I can use Google Scholar. It\\'s more accessible and often includes links to free versions of papers. I can search with the same keywords and use the \"Since 2023\" filter. That might help me find the most recent studies.\\n\\nI wonder if there are any specific conferences in power engineering where machine learning is a hot topic. Conferences like PES General Meeting or ICASSP might have proceedings that are published in IEEE Xplore. Checking those could lead me to some recent papers.\\n\\nAlso, I should think about the types of papers. Are they research articles, review papers, or case studies? Review papers might give me a good overview of the field, while research articles will have the latest findings. \\n\\nI\\'m a bit confused about how to structure my search. Maybe I should start broad and then narrow down. For example, search for \"machine learning in power systems\" and then filter by year. Alternatively, I could look for specific applications like \"photovoltaic power forecasting using LSTM\" or \"wind power prediction with deep learning.\"\\n\\nWait, I should also consider the methodology. Am I looking for papers that propose new algorithms, apply existing ones, or compare different methods? That might help in refining my search.\\n\\nAnother idea: check the references of some key papers I already know. They might cite recent works that are relevant. But I don\\'t have any specific papers in mind yet, so maybe that\\'s not the best approach right now.\\n\\nI should also be cautious about the credibility of the sources. Sticking to well-known publishers and journals is probably safer to ensure the quality of the papers.\\n\\nHmm, maybe I can look for special issues or thematic sections in journals focused on data science in energy. Those often collect a set of relevant papers on a specific topic.\\n\\nI think I have a plan. I\\'ll start with Google Scholar, use specific keywords, apply the recent year filter, and explore the results. If I find some good papers, I\\'ll check their references for more leads. I\\'ll also visit IEEE Xplore and ScienceDirect, using my institution\\'s access if possible, to find more targeted papers. If I hit a paywall, I\\'ll look for the papers on arXiv or ResearchGate where authors might have shared them openly.\\n\\nWait, I should also consider the possibility that some papers might be in the form of conference proceedings rather than journal articles. Those can sometimes be more up-to-date but might not be as in-depth. \\n\\nI\\'m a bit overwhelmed with all the options, but breaking it down into these steps makes it manageable. I\\'ll start with the easiest access points like Google Scholar and arXiv, then move on to the paid databases if needed. Focusing on specific keywords related to my interests will help narrow down the search and find the most relevant recent papers.\\n</think>\\n\\nTo find recent papers on data science or machine learning in power engineering and energy science, follow this organized approach:\\n\\n1. **Start with Accessible Databases:**\\n   - **Google Scholar:** Use keywords like \"machine learning renewable energy\" or \"data science energy forecasting\" and apply the \"Since 2023\" filter. This is accessible and often includes free paper links.\\n   - **arXiv:** Search for preprints using similar keywords to find freely available recent studies.\\n\\n2. **Explore Specific Journals:**\\n   - Visit journals like IEEE Transactions on Power Systems or Renewable and Sustainable Energy Reviews. Browse recent issues for relevant articles.\\n\\n3. **Check Conference Proceedings:**\\n   - Look for', additional_kwargs={}, response_metadata={'token_usage': {'completion_tokens': 1000, 'prompt_tokens': 21, 'total_tokens': 1021, 'completion_time': 4.542123828, 'prompt_time': 0.003527382, 'queue_time': 0.052716017999999996, 'total_time': 4.54565121}, 'model_name': 'deepseek-r1-distill-llama-70b', 'system_fingerprint': 'fp_1bbe7845ec', 'finish_reason': 'length', 'logprobs': None}, id='run--c769336a-204b-404a-a66e-806e125be686-0', usage_metadata={'input_tokens': 21, 'output_tokens': 1000, 'total_tokens': 1021})"
      ]
     },
     "execution_count": 15,
     "metadata": {},
     "output_type": "execute_result"
    }
   ],
   "source": [
    "llm.invoke(\"give me recent papers on data science or  machine learning in power engineering and energy science \")"
   ]
  },
  {
   "cell_type": "code",
   "execution_count": 16,
   "metadata": {},
   "outputs": [],
   "source": [
    "llm_with_tools=llm.bind_tools(tools=tools)\n"
   ]
  },
  {
   "cell_type": "code",
   "execution_count": 17,
   "metadata": {},
   "outputs": [
    {
     "data": {
      "text/plain": [
       "AIMessage(content='', additional_kwargs={'tool_calls': [{'id': 'call_g1pr', 'function': {'arguments': '{\"query\":\"AI in power engineering recent news\"}', 'name': 'tavily_search_results_json'}, 'type': 'function'}]}, response_metadata={'token_usage': {'completion_tokens': 174, 'prompt_tokens': 283, 'total_tokens': 457, 'completion_time': 0.653498025, 'prompt_time': 0.025112831, 'queue_time': 0.220962317, 'total_time': 0.678610856}, 'model_name': 'deepseek-r1-distill-llama-70b', 'system_fingerprint': 'fp_1bbe7845ec', 'finish_reason': 'tool_calls', 'logprobs': None}, id='run--e948f0a7-1657-4fcd-8e77-8c2885e80ed7-0', tool_calls=[{'name': 'tavily_search_results_json', 'args': {'query': 'AI in power engineering recent news'}, 'id': 'call_g1pr', 'type': 'tool_call'}], usage_metadata={'input_tokens': 283, 'output_tokens': 174, 'total_tokens': 457})"
      ]
     },
     "execution_count": 17,
     "metadata": {},
     "output_type": "execute_result"
    }
   ],
   "source": [
    "## Execute this call\n",
    "llm_with_tools.invoke(\"What is the recent news on AI in power engineering?\")"
   ]
  },
  {
   "cell_type": "code",
   "execution_count": 21,
   "metadata": {},
   "outputs": [
    {
     "data": {
      "text/plain": [
       "AIMessage(content='', additional_kwargs={'tool_calls': [{'id': 'call_w1jt', 'function': {'arguments': '{\"query\":\"AI in power engineering\"}', 'name': 'arxiv'}, 'type': 'function'}]}, response_metadata={'token_usage': {'completion_tokens': 308, 'prompt_tokens': 283, 'total_tokens': 591, 'completion_time': 1.395195433, 'prompt_time': 0.019024467, 'queue_time': 0.05319652799999999, 'total_time': 1.4142199}, 'model_name': 'deepseek-r1-distill-llama-70b', 'system_fingerprint': 'fp_1bbe7845ec', 'finish_reason': 'tool_calls', 'logprobs': None}, id='run--55222b44-f7e5-40e3-8402-4ebcf283e194-0', tool_calls=[{'name': 'arxiv', 'args': {'query': 'AI in power engineering'}, 'id': 'call_w1jt', 'type': 'tool_call'}], usage_metadata={'input_tokens': 283, 'output_tokens': 308, 'total_tokens': 591})"
      ]
     },
     "execution_count": 21,
     "metadata": {},
     "output_type": "execute_result"
    }
   ],
   "source": [
    "## Execute this call\n",
    "llm_with_tools.invoke(\"What is the latest research on AI in power engineering?\")\n"
   ]
  },
  {
   "cell_type": "code",
   "execution_count": 20,
   "metadata": {},
   "outputs": [
    {
     "data": {
      "text/plain": [
       "AIMessage(content='Machine learning is a subset of artificial intelligence (AI) that involves the use of algorithms and statistical models to enable machines to perform a specific task without using explicit instructions, relying instead on patterns and inference. In simpler terms, machine learning is a way to train computers to make decisions or predictions based on data. \\n\\nThe process typically involves feeding large amounts of data into an algorithm, which then learns from the data and improves its performance over time. There are different types of machine learning, including:\\n\\n1. **Supervised Learning**: The algorithm is trained on labeled data, where each example is paired with the correct output. This helps the model learn the relationship between inputs and outputs.\\n\\n2. **Unsupervised Learning**: The algorithm is trained on unlabeled data, and it aims to find patterns or groupings in the data without prior knowledge of the outputs.\\n\\n3. **Reinforcement Learning**: The algorithm learns by interacting with an environment and receiving rewards or penalties based on its actions, aiming to maximize the cumulative reward.\\n\\nMachine learning is widely used in applications such as image and speech recognition, natural language processing, recommendation systems, and autonomous vehicles. It has become a key driver of innovation in many industries, enabling systems to improve automatically through experience.', additional_kwargs={}, response_metadata={'token_usage': {'completion_tokens': 468, 'prompt_tokens': 277, 'total_tokens': 745, 'completion_time': 1.778324477, 'prompt_time': 0.017785776, 'queue_time': 0.05628844399999999, 'total_time': 1.7961102530000002}, 'model_name': 'deepseek-r1-distill-llama-70b', 'system_fingerprint': 'fp_1bbe7845ec', 'finish_reason': 'stop', 'logprobs': None}, id='run--483194e3-b2a5-4c0b-8cb0-b4a4280028f9-0', usage_metadata={'input_tokens': 277, 'output_tokens': 468, 'total_tokens': 745})"
      ]
     },
     "execution_count": 20,
     "metadata": {},
     "output_type": "execute_result"
    }
   ],
   "source": [
    "## Execute this call\n",
    "llm_with_tools.invoke(\"What is machine learning?\")"
   ]
  },
  {
   "cell_type": "markdown",
   "metadata": {},
   "source": [
    "## Workflow "
   ]
  },
  {
   "cell_type": "code",
   "execution_count": 23,
   "metadata": {},
   "outputs": [],
   "source": [
    "## State Schema\n",
    "from typing_extensions import TypedDict\n",
    "from langchain_core.messages import AnyMessage ## Human message or AI message\n",
    "from typing import Annotated  ## labelling\n",
    "from langgraph.graph.message import add_messages  ## Reducers in Langgraph"
   ]
  },
  {
   "cell_type": "code",
   "execution_count": null,
   "metadata": {},
   "outputs": [],
   "source": [
    "class State(TypedDict):\n",
    "    messages: Annotated[list[AnyMessage], add_messages] # add_message appends messages to the state variable messages, dont write anything. \n",
    "                                                        ##it is reducer cz we are not overwriting the messages variable\n",
    "## message key variable that passes all nnodes, will be a list of human and AI messages that will be available on every of  langgraph flow\n",
    "    "
   ]
  },
  {
   "cell_type": "code",
   "execution_count": 26,
   "metadata": {},
   "outputs": [],
   "source": [
    "### Entire Chatbot With LangGraph\n",
    "from IPython.display import Image, display\n",
    "from langgraph.graph import StateGraph, START, END\n",
    "from langgraph.prebuilt import ToolNode\n",
    "from langgraph.prebuilt import tools_condition # tool path for llm, "
   ]
  },
  {
   "cell_type": "code",
   "execution_count": 27,
   "metadata": {},
   "outputs": [
    {
     "data": {
      "image/png": "[encoded data removed]",
      "text/plain": [
       "<IPython.core.display.Image object>"
      ]
     },
     "metadata": {},
     "output_type": "display_data"
    }
   ],
   "source": [
    "### Node definition\n",
    "def tool_calling_llm(state:State):\n",
    "    return {\"messages\":[llm_with_tools.invoke(state[\"messages\"])]}\n",
    "\n",
    "# Build graph\n",
    "builder = StateGraph(State)\n",
    "builder.add_node(\"tool_calling_llm\", tool_calling_llm) # this node will call the llm with tools\n",
    "builder.add_node(\"tools\", ToolNode(tools))  # whatever tools we have defined above, we can use them in the graph\n",
    "\n",
    "## Edgess\n",
    "builder.add_edge(START, \"tool_calling_llm\")\n",
    "builder.add_conditional_edges(\n",
    "    \"tool_calling_llm\",\n",
    "    # If the latest message (result) from assistant is a tool call -> tools_condition routes to tools\n",
    "    # If the latest message (result) from assistant is a not a tool call -> tools_condition routes to END\n",
    "    tools_condition,\n",
    ")\n",
    "builder.add_edge(\"tools\", END)\n",
    "\n",
    "graph = builder.compile()\n",
    "\n",
    "# View\n",
    "display(Image(graph.get_graph().draw_mermaid_png()))"
   ]
  },
  {
   "cell_type": "code",
   "execution_count": 29,
   "metadata": {},
   "outputs": [
    {
     "name": "stdout",
     "output_type": "stream",
     "text": [
      "================================\u001b[1m Human Message \u001b[0m=================================\n",
      "\n",
      "research papers on data science in power engineering\n",
      "==================================\u001b[1m Ai Message \u001b[0m==================================\n",
      "Tool Calls:\n",
      "  arxiv (call_yhcz)\n",
      " Call ID: call_yhcz\n",
      "  Args:\n",
      "    query: data science in power engineering\n",
      "=================================\u001b[1m Tool Message \u001b[0m=================================\n",
      "Name: arxiv\n",
      "\n",
      "Published: 2021-03-02\n",
      "Title: On a Factorial Knowledge Architecture for Data Science-powered Software Engineering\n",
      "Authors: Zheng Li\n",
      "Summary: Given the data-intensive and collaborative trend in science, the software\n",
      "engineering community also pays increasing attention to obtaining valuable and\n",
      "useful insights from data repositories. Nevertheless, applying data science to\n",
      "software engineering (e.g., mining software repositories) can be blindfold and\n",
      "meaningless, if lacking a suitable knowledge arch\n"
     ]
    }
   ],
   "source": [
    "messages=graph.invoke({\"messages\":\"research papers on data science in power engineering\"})\n",
    "for m in messages['messages']:\n",
    "    m.pretty_print()"
   ]
  },
  {
   "cell_type": "code",
   "execution_count": 32,
   "metadata": {},
   "outputs": [
    {
     "name": "stdout",
     "output_type": "stream",
     "text": [
      "================================\u001b[1m Human Message \u001b[0m=================================\n",
      "\n",
      "Hi, My name is Waseek. how are you?\n",
      "==================================\u001b[1m Ai Message \u001b[0m==================================\n",
      "\n",
      "Hello, Waseek! I'm just a computer program, so I don't have feelings, but I'm here and ready to help you with whatever you need. How can I assist you today?\n"
     ]
    }
   ],
   "source": [
    "messages=graph.invoke({\"messages\":\"Hi, My name is Waseek. how are you?\"})\n",
    "for m in messages['messages']:\n",
    "    m.pretty_print()"
   ]
  },
  {
   "cell_type": "code",
   "execution_count": 33,
   "metadata": {},
   "outputs": [
    {
     "data": {
      "image/png": "[encoded data removed]",
      "text/plain": [
       "<IPython.core.display.Image object>"
      ]
     },
     "metadata": {},
     "output_type": "display_data"
    }
   ],
   "source": [
    "### Node definition\n",
    "def tool_calling_llm(state:State):\n",
    "    return {\"messages\":[llm_with_tools.invoke(state[\"messages\"])]}\n",
    "\n",
    "# Build graph\n",
    "builder = StateGraph(State)\n",
    "builder.add_node(\"tool_calling_llm\", tool_calling_llm)\n",
    "builder.add_node(\"tools\", ToolNode(tools))\n",
    "\n",
    "## Edgess\n",
    "builder.add_edge(START, \"tool_calling_llm\")\n",
    "builder.add_conditional_edges(\n",
    "    \"tool_calling_llm\",\n",
    "    # If the latest message (result) from assistant is a tool call -> tools_condition routes to tools\n",
    "    # If the latest message (result) from assistant is a not a tool call -> tools_condition routes to END\n",
    "    tools_condition,\n",
    ")\n",
    "builder.add_edge(\"tools\", \"tool_calling_llm\")\n",
    "\n",
    "graph = builder.compile()\n",
    "\n",
    "# View\n",
    "display(Image(graph.get_graph().draw_mermaid_png()))"
   ]
  },
  {
   "cell_type": "code",
   "execution_count": 34,
   "metadata": {},
   "outputs": [
    {
     "name": "stdout",
     "output_type": "stream",
     "text": [
      "================================\u001b[1m Human Message \u001b[0m=================================\n",
      "\n",
      "What is the recent AI news on Power Enginerring and then please tell me the recent research paper on NLP and AI Agent?\n",
      "==================================\u001b[1m Ai Message \u001b[0m==================================\n",
      "Tool Calls:\n",
      "  tavily_search_results_json (call_84n2)\n",
      " Call ID: call_84n2\n",
      "  Args:\n",
      "    query: recent AI news Power Engineering\n",
      "=================================\u001b[1m Tool Message \u001b[0m=================================\n",
      "Name: tavily_search_results_json\n",
      "\n",
      "[{\"title\": \"Power Engineering: Power Industry And Energy News\", \"url\": \"https://www.power-eng.com/\", \"content\": \"Learn How to Work Smarter in the Field\\n\\nJune 4, 2025 @ 2:00 pm – 3:00 pm EDT\\n\\nDTECH Data Centers & AI 2025\\n\\nMay 27-29, 2025 | San Jose, CA\\n\\nAdvancing Power Electronics Cooling: Innovations in Pumped Two-Phase Systems\\n\\nMay 29, 2025 @ 11:00 am – 12:00 pm EDT\\n\\nMore News\\n\\nNew York offshore wind project resumes construction after Trump’s stop work order\\n\\nCould this utility’s next-gen storage test be a game changer?\\n\\nLess than 2 weeks to go: Submit case studies and apply to speak at POWERGEN 2026 [...] Purdue University reactor paves the way for nuclear digital breakthroughs\\n\\nThe ultimate utility-data center meetup: What we’re excited about at DTECH Data Centers and AI\\n\\nPowerGen News\\n\\nPOWERGEN welcomes the Electric Utility & Cogen Chemistry Workshop for 2026\\n\\nWe are LIVE: Submit case studies and apply to speak at POWERGEN 2026\\n\\nPOWERGEN highlights the importance of water and steam chemistry\\n\\nWant to help develop the POWERGEN International® conference program? Join our advisory committee [...] Latest News\\n\\nWashington state nuclear plant approved for $700M upgrade to boost output\\n\\nWe Energies natural gas plants approved by regulators\\n\\nMay 29\\n\\nAdvancing Power Electronics Cooling: Innovations in Pumped Two-Phase Systems\\n\\nConstellation extinguishes fire at Quad Cities Nuclear Plant\\n\\nTariffs News\\n\\nThe impacts of shifting tariff policy on solar generation and manufacturing\\n\\nTariff uncertainty forces global energy storage company to pause active US projects\", \"score\": 0.66203266}, {\"title\": \"Engineer makes key breakthrough as power-hungry AI strains ...\", \"url\": \"https://tech.yahoo.com/ai/articles/engineer-makes-key-breakthrough-power-103029391.html\", \"content\": \"As a result, Julien Delavande of Hugging Face AI developed a way to track the electricity consumption of a user who prompts or responds to the model in real time. For instance, Kyle Wiggers of TechCrunch noted that it requires almost 0.2 watt-hours for an AI model like Llama 3.3 to draft an email. That's approximately the same power consumption as running a microwave for 0.12 seconds. [...] Although it may seem counterintuitive to combat AI electricity consumption with another AI model, the fact that Delavande's new tool is designed to share electricity information with the user may help shed more light on the subject in the long run.\\n\\n\\\"They serve as a reminder that everything — chatbots included — has a cost,\\\" Wiggers wrote. [...] While artificial intelligence may appear simple and efficient on the surface, the reality is that AI-powered tools require large amounts of electricity to operate, especially as we integrate them more into our culture. In fact, reports from the International Energy Agency anticipate that electricity consumption from AI data centers will double by 2026.\", \"score\": 0.49611887}, {\"title\": \"AI could keep us dependent on natural gas for decades to come\", \"url\": \"https://www.technologyreview.com/2025/05/20/1116272/ai-natural-gas-data-centers-energy-power-plants/\", \"content\": \"AI companies have expressed some interest in their ability to shift around demand for power. But there are still plenty of technology questions around how to make it happen. Late last year, EPRI (the Electric Power Research Institute), a nonprofit R&D group, started a three-year collaboration with power providers, grid operators, and AI companies including Meta and Google, to figure it out. “The potential is very large,” says David Porter, the EPRI vice president who runs the project, but we [...] The soaring demand from AI data centers is prompting many power providers to plan new capacity to make sure they have plenty of what Tyler Norris, a fellow at Duke's Nicholas School of the Environment, and his colleagues call “headroom,” to meet any spikes in demand. But after analyzing data from power systems across the country, Norris and his coauthors found that if large AI facilities cut back their electricity use during hours of peak demand, many regional power grids could accommodate [...] Meta said it will work with Entergy to eventually bring online at least 1.5 gigawatts of new renewables, including solar, but that it had not yet decided which specific projects to fund or when those investments will be made. Meanwhile, the new natural-gas plants, which are scheduled to be up and running starting in 2028 and will have a typical lifetime of around 30 years, will further lock in the state’s commitment to the fossil fuel.\", \"score\": 0.4475333}, {\"title\": \"To power AI, data centers need more and more energy | The Current\", \"url\": \"https://news.ucsb.edu/2025/021835/power-ai-data-centers-need-more-and-more-energy\", \"content\": \"Related Stories\\n\\nMay 22, 2025\\n\\nMurphy Niu receives NSF CAREER award for quantum computing innovation\\n\\nMay 15, 2025\\n\\nCommunity science helps reveal population growth among SoCal’s endangered giant sea bass\\n\\nMay 14, 2025\\n\\nEnergy and memory: A new neural network paradigm\\n\\nMay 14, 2025\\n\\nMaking automation more human through innovative fabrication tools\\n\\n\\n\\nPrivacy | Terms of UseAccessibility | Webmaster\\n\\nExplore\\n\\nAbout\\n\\nConnect\", \"score\": 0.39424816}, {\"title\": \"Elon Musk says AI could run into power issues by middle of next year\", \"url\": \"https://www.cnbc.com/2025/05/20/elon-musk-says-ai-could-run-into-power-capacity-issues-by-middle-of-next-year.html\", \"content\": \"Elon Musk says AI could run into power capacity issues by middle of next year\\n\\nElon Musk said Tuesday that artificial intelligence development could run into power generation problems by the middle of next year, as the technology industry builds increasingly large data centers. [...] Google ran into a \\\"very stark reality that we didn't have enough capacity on the system to power our data centers in the short term and then potentially in the long term,\\\" Golin said at a February conference hosted by the Nuclear Energy Institute in New York City.\\n\\nMusk said Tuesday that China is building significantly more power generation than U.S. \\\"China power generation looks like a rocket going to orbit and U.S. power generation is flat,\\\" the Tesla CEO said. [...] Alphabet's Google unit warned in February that the U.S. is facing a power capacity crisis as the U.S. races against China to achieve dominance in AI. Google started looking into nuclear energy after realizing renewables were potentially causing instability on the grid, said Caroline Golin, Google's global head of energy market development. The output of wind and solar is dependent on weather conditions.\", \"score\": 0.36629558}]\n",
      "==================================\u001b[1m Ai Message \u001b[0m==================================\n",
      "Tool Calls:\n",
      "  arxiv (call_nh61)\n",
      " Call ID: call_nh61\n",
      "  Args:\n",
      "    query: recent advances in NLP and AI agents 2025\n",
      "=================================\u001b[1m Tool Message \u001b[0m=================================\n",
      "Name: arxiv\n",
      "\n",
      "Published: 2025-03-05\n",
      "Title: Preserving Cultural Identity with Context-Aware Translation Through Multi-Agent AI Systems\n",
      "Authors: Mahfuz Ahmed Anik, Abdur Rahman, Azmine Toushik Wasi, Md Manjurul Ahsan\n",
      "Summary: Language is a cornerstone of cultural identity, yet globalization and the\n",
      "dominance of major languages have placed nearly 3,000 languages at risk of\n",
      "extinction. Existing AI-driven translation models prioritize efficiency but\n",
      "often fail to capture cultural nuances, idiomatic expressions, an\n",
      "==================================\u001b[1m Ai Message \u001b[0m==================================\n",
      "\n",
      "Here are the recent developments in AI related to Power Engineering and a recent research paper on NLP and AI Agents:\n",
      "\n",
      "### Recent AI News in Power Engineering:\n",
      "1. **Tracking Electricity Consumption of AI Models**: \n",
      "   - Julien Delavande of Hugging Face AI developed a tool to track the electricity consumption of AI models in real time. For instance, drafting an email with a model like Llama 3.3 consumes about 0.2 watt-hours, equivalent to running a microwave for 0.12 seconds. This tool highlights the environmental impact of AI operations.\n",
      "\n",
      "2. **AI Dependence on Natural Gas**:\n",
      "   - AI companies are increasingly reliant on natural gas for power generation. Meta and Google are collaborating with power providers to explore solutions, but the construction of new natural-gas plants could lock in fossil fuel dependence for decades.\n",
      "\n",
      "3. **Power Capacity Issues**:\n",
      "   - Elon Musk warned that AI development could face power generation challenges by mid-2026 due to the increasing demand for data centers. Google also highlighted a potential power capacity crisis in the U.S., emphasizing the need for nuclear energy to stabilize the grid.\n",
      "\n",
      "4. **Data Centers and Energy Demand**:\n",
      "   - The energy demand for AI data centers is rising, with power providers planning new capacity to meet spikes in demand. However, shifting AI facilities' electricity use during peak hours could help accommodate demand without new infrastructure.\n",
      "\n",
      "---\n",
      "\n",
      "### Recent Research Paper on NLP and AI Agents:\n",
      "**Title**: *Preserving Cultural Identity with Context-Aware Translation Through Multi-Agent AI Systems*  \n",
      "**Authors**: Mahfuz Ahmed Anik, Abdur Rahman, Azmine Toushik Wasi, Md Manjurul Ahsan  \n",
      "**Summary**:  \n",
      "This paper addresses the challenge of preserving cultural identity in translation tasks. Existing AI models often prioritize efficiency over cultural nuances, leading to the potential extinction of nearly 3,000 languages. The authors propose a multi-agent AI system that incorporates cultural context to improve translation accuracy while preserving idiomatic expressions and cultural heritage. This approach aims to balance globalization with the protection of linguistic diversity.\n",
      "\n",
      "Let me know if you'd like more details on any of these topics!\n"
     ]
    }
   ],
   "source": [
    "messages=graph.invoke({\"messages\":\"What is the recent AI news on Power Enginerring and then please tell me the recent research paper on NLP and AI Agent?\"})\n",
    "for m in messages['messages']:\n",
    "    m.pretty_print()"
   ]
  },
  {
   "cell_type": "code",
   "execution_count": 35,
   "metadata": {},
   "outputs": [
    {
     "name": "stdout",
     "output_type": "stream",
     "text": [
      "================================\u001b[1m Human Message \u001b[0m=================================\n",
      "\n",
      "do you know irtefa waseek?\n",
      "==================================\u001b[1m Ai Message \u001b[0m==================================\n",
      "Tool Calls:\n",
      "  wikipedia (call_6fht)\n",
      " Call ID: call_6fht\n",
      "  Args:\n",
      "    query: Irtefa Waseek\n",
      "=================================\u001b[1m Tool Message \u001b[0m=================================\n",
      "Name: wikipedia\n",
      "\n",
      "No good Wikipedia Search Result was found\n",
      "==================================\u001b[1m Ai Message \u001b[0m==================================\n",
      "Tool Calls:\n",
      "  tavily_search_results_json (call_h755)\n",
      " Call ID: call_h755\n",
      "  Args:\n",
      "    query: Irtefa Waseek\n",
      "=================================\u001b[1m Tool Message \u001b[0m=================================\n",
      "Name: tavily_search_results_json\n",
      "\n",
      "[{\"title\": \"Kounsel: Employee Directory | ZoomInfo.com\", \"url\": \"https://www.zoominfo.com/pic/kounsel/1183896068\", \"content\": \"Irtefa Waseek. Advanced Sql Developer at Radiant Data Systems. Worked as Data Scientist. at Kounsel (2024-2025). email Irtefa Waseek Email direct Irtefa Waseek\", \"score\": 0.6760432}, {\"title\": \"kounsel Overview | SignalHire Company Profile\", \"url\": \"https://www.signalhire.com/companies/kounsel\", \"content\": \"Irtefa waseek I · Irtefa waseek. Graduate Data Scientist. View Email & Phone. Muhammad Naveed M · Muhammad Naveed. Frontend Engineer. View Email & Phone. Dina\", \"score\": 0.6625569}, {\"title\": \"10+ \\\"Irtefa\\\" profiles - LinkedIn\", \"url\": \"https://www.linkedin.com/pub/dir/Irtefa/+\", \"content\": \"Irtefa Waseek. Data Scientist | Data Analyst | SQL Analyst | Artificial Intelligence Engineer | NLP Engineer. Dhaka. Radiant Data Systems, Ltd, +3 more.\", \"score\": 0.65359193}, {\"title\": \"Irtefa Waseek Waseekk - GitHub\", \"url\": \"https://github.com/Waseekk\", \"content\": \"# About Me 👋 I'm a data enthusiast diving deep into advanced data analysis with statistics. Explored projects cover diverse domains In —Data analysis, Visualization and Statistics—unveiling insight…\\n\\nJupyter Notebook\\n\\n\\n\\n\\n\\n            1\\n\\n\\n\\nJupyter Notebook\\n\\n\\n\\n\\n\\n            1\\n\\nUh oh!\\n\\nThere was an error while loading. Please reload this page.\\n\\nThere was an error while loading. Please reload this page.\\n\\nFooter\\n\\nFooter navigation [...] You must be logged in to block users.\\n\\nContact GitHub support about this user’s behavior.\\n        Learn more about reporting abuse.\\n\\nPinned\\n    \\n\\n\\n\\n Loading\\n\\nNatural Language Processing Projects\\n\\nJupyter Notebook\\n\\n\\n\\n\\n\\n            1\\n\\nMaster Decision Trees & Ensembles in Python with this ML notebook! Classification, Regression, Bagging, Boosting, & Tuning. Elevate your ML skills now! 🌲🚀\\n\\nJupyter Notebook\\n\\n\\n\\n\\n\\n            1 [...] Navigation Menu\\n\\nSearch code, repositories, users, issues, pull requests...\\n\\nProvide feedback\\n\\nWe read every piece of feedback, and take your input very seriously.\\n\\nSaved searches\\n\\nUse saved searches to filter your results more quickly\\n\\nTo see all available qualifiers, see our documentation.\\n\\n\\n\\nIrtefa Waseek\\n        \\n\\n          Waseekk\\n\\nBlock or report Waseekk\\n\\nPrevent this user from interacting with your repositories and sending you notifications.\\n          Learn more about blocking users.\", \"score\": 0.63234437}, {\"title\": \"Irtefa waseek - Advanced SQL Developer - - | Radiant Data Systems ...\", \"url\": \"https://bd.linkedin.com/in/irtefa-waseek-59a2891a7\", \"content\": \"With over two years of hands-on experience and academic training, I am a passionate and results-driven Data Scientist specializing in machine learning,\", \"score\": 0.6304352}]\n",
      "==================================\u001b[1m Ai Message \u001b[0m==================================\n",
      "\n",
      "Based on the search results, Irtefa Waseek is a data professional with experience in SQL development and data science. He has worked as a Data Scientist at Kounsel and is currently an Advanced SQL Developer at Radiant Data Systems. He also has a presence on GitHub where he shares projects related to data analysis, visualization, and machine learning. For more detailed information, you can visit his LinkedIn profile or GitHub repository.\n"
     ]
    }
   ],
   "source": [
    "messages=graph.invoke({\"messages\":\"do you know irtefa waseek?\"})\n",
    "for m in messages['messages']:\n",
    "    m.pretty_print()"
   ]
  }
 ],
 "metadata": {
  "kernelspec": {
   "display_name": "venv",
   "language": "python",
   "name": "python3"
  },
  "language_info": {
   "codemirror_mode": {
    "name": "ipython",
    "version": 3
   },
   "file_extension": ".py",
   "mimetype": "text/x-python",
   "name": "python",
   "nbconvert_exporter": "python",
   "pygments_lexer": "ipython3",
   "version": "3.12.7"
  }
 },
 "nbformat": 4,
 "nbformat_minor": 2
}
